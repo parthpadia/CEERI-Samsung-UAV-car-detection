{
 "cells": [
  {
   "cell_type": "code",
   "execution_count": 1,
   "metadata": {},
   "outputs": [],
   "source": [
    "import csv\n",
    "import matplotlib.pyplot as plt\n",
    "from math import *\n",
    "import numpy as np\n",
    "import scipy.misc as sm"
   ]
  },
  {
   "cell_type": "code",
   "execution_count": 2,
   "metadata": {},
   "outputs": [],
   "source": [
    "x0 = np.array([])\n",
    "y0 = np.array([])\n",
    "sx = np.array([])\n",
    "sy = np.array([])"
   ]
  },
  {
   "cell_type": "code",
   "execution_count": null,
   "metadata": {},
   "outputs": [],
   "source": [
    "with open('attatchments/img1_data.txt','r') as f:\n",
    "    reader = csv.reader(f,dialect = 'excel',delimiter=' ')\n",
    "    for row in reader:\n",
    "        x0 = np.append(x0,int(row[0]))\n",
    "        y0 = np.append(y0,int(row[1]))\n",
    "        sx = np.append(sx,int(row[2]))\n",
    "        sy = np.append(sy,int(row[3]))\n",
    "        theta = np.append(theta,180\n",
    "        \n",
    "    x0 = x0.astype(int)\n",
    "    y0 = y0.astype(int)\n",
    "    sx = sx.astype(int)\n",
    "    sy = sy.astype(int)\n",
    "    \n",
    "    print(x0)\n",
    "    print(y0)\n",
    "    print(sx)\n",
    "    print(sy)\n",
    "    print(theta)"
   ]
  },
  {
   "cell_type": "code",
   "execution_count": null,
   "metadata": {},
   "outputs": [],
   "source": [
    "def gaussian(x0,y0,sx,sy,theta):\n",
    "    \n",
    "    theta = theta * pi / 180\n",
    "    \n",
    "    func = np.zeros((5616,3744))\n",
    "\n",
    "    for i in range(len(x0)):\n",
    "        #print(x0.shape[0])\n",
    "        print(i)\n",
    "        for x in range(max(x0[i]-200,0),min(x0[i]+200,5616)):\n",
    "            #print(i,\" \",x)\n",
    "            for y in range(max(y0[i]-200,0),min(y0[i]+200,3744)):\n",
    "                a = np.power(np.cos(theta[i]),2)/(2*(sx[i]**2)) + np.power(np.sin(theta[i]),2)/(2*(sy[i]**2))\n",
    "                b = -1*(np.sin(2*theta[i])/(4*(sx[i]**2))) + np.sin(2*theta[i])/(4*(sy[i]**2))\n",
    "                c = np.power(np.sin(theta[i]),2)/(2*(sx[i]**2)) + np.power(np.cos(theta[i]),2)/(2*(sy[i]**2))\n",
    "\n",
    "                power = -1*(a*((x-x0[i])**2) + 2*b*(x-x0[i])*(y-y0[i]) + c*((y-y0[i])**2))\n",
    "\n",
    "                func[x][y] = max(func[x][y],np.amax(np.exp(power)))\n",
    "\n",
    "    return func"
   ]
  }
 ],
 "metadata": {
  "kernelspec": {
   "display_name": "Python 3",
   "language": "python",
   "name": "python3"
  },
  "language_info": {
   "codemirror_mode": {
    "name": "ipython",
    "version": 3
   },
   "file_extension": ".py",
   "mimetype": "text/x-python",
   "name": "python",
   "nbconvert_exporter": "python",
   "pygments_lexer": "ipython3",
   "version": "3.5.2"
  }
 },
 "nbformat": 4,
 "nbformat_minor": 2
}
