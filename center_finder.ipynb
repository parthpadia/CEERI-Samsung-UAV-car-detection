{
 "cells": [
  {
   "cell_type": "code",
   "execution_count": 15,
   "metadata": {},
   "outputs": [],
   "source": [
    "import numpy as np\n",
    "from keras import layers\n",
    "from keras.layers import Input, Dense, Activation, ZeroPadding2D, BatchNormalization, Flatten, Conv2D,Lambda\n",
    "from keras.layers import MaxPooling2D,UpSampling2D,Concatenate,Conv2DTranspose\n",
    "from keras.models import Model\n",
    "from keras.preprocessing import image\n",
    "from keras.utils import layer_utils\n",
    "from keras.utils.data_utils import get_file\n",
    "from keras.applications.imagenet_utils import preprocess_input\n",
    "from keras.models import load_model\n",
    "#from keras_retinanet.models import load_model\n",
    "#import pydot\n",
    "from IPython.display import SVG\n",
    "from keras.utils.vis_utils import model_to_dot\n",
    "from keras.utils import plot_model\n",
    "from keras.callbacks import LearningRateScheduler,Callback\n",
    "from keras.optimizers import RMSprop\n",
    "import cv2\n",
    "import csv\n",
    "from math import *\n",
    "from keras.applications.vgg16 import VGG16 \n",
    "import keras.backend as K\n",
    "K.set_image_data_format('channels_last')\n",
    "import matplotlib.pyplot as plt\n",
    "from matplotlib.pyplot import imshow\n",
    "import h5py\n",
    "from keras.utils import to_categorical\n",
    "from IPython.display import clear_output\n",
    "from sklearn.model_selection import train_test_split\n",
    "from sklearn import datasets,svm\n",
    "from keras.preprocessing.image import ImageDataGenerator\n",
    "from skimage import measure,img_as_float32\n",
    "from imutils import contours\n",
    "import imutils\n",
    "import scipy.misc as sm\n",
    "from PIL import Image\n",
    "from timeit import default_timer as timer\n",
    "from numba import *\n",
    "import os\n",
    "#from keras_retinanet.models.resnet import custom_objects\n",
    "%matplotlib inline"
   ]
  },
  {
   "cell_type": "code",
   "execution_count": 84,
   "metadata": {},
   "outputs": [],
   "source": [
    "lst=[]\n",
    "with open('Centers/10.txt','r') as f:\n",
    "    reader = csv.reader(f,dialect = 'excel',delimiter=' ')\n",
    "    for row in reader:\n",
    "        x = row[0]\n",
    "        y = row[1]\n",
    "        lst.append([x,y])"
   ]
  },
  {
   "cell_type": "code",
   "execution_count": 108,
   "metadata": {},
   "outputs": [
    {
     "name": "stdout",
     "output_type": "stream",
     "text": [
      "4640   2706\n"
     ]
    }
   ],
   "source": [
    "n =333\n",
    "yp = n%16\n",
    "xp = int(n/16)\n",
    "\n",
    "if yp!=0:\n",
    "    yp = yp-1\n",
    "else:\n",
    "    yp=15\n",
    "    xp = xp-1\n",
    "xs = xp*224\n",
    "xe = xs+224\n",
    "ys = yp*224\n",
    "ye = ys+224\n",
    "result = []\n",
    "for i in range(len(lst)):\n",
    "    a = int(lst[i][0])\n",
    "    b = int(lst[i][1])\n",
    "    if a>=xs and a<=xe and b>=ys and b<=ye:\n",
    "        print(lst[i][0],\" \",lst[i][1])"
   ]
  },
  {
   "cell_type": "code",
   "execution_count": null,
   "metadata": {},
   "outputs": [],
   "source": []
  }
 ],
 "metadata": {
  "kernelspec": {
   "display_name": "Python 3",
   "language": "python",
   "name": "python3"
  },
  "language_info": {
   "codemirror_mode": {
    "name": "ipython",
    "version": 3
   },
   "file_extension": ".py",
   "mimetype": "text/x-python",
   "name": "python",
   "nbconvert_exporter": "python",
   "pygments_lexer": "ipython3",
   "version": "3.5.2"
  }
 },
 "nbformat": 4,
 "nbformat_minor": 2
}
