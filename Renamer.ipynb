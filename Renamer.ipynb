{
 "cells": [
  {
   "cell_type": "code",
   "execution_count": 5,
   "metadata": {},
   "outputs": [],
   "source": [
    "import os\n",
    "os.getcwd()\n",
    "collection = \"gt_new/NAL_data_annotation/All_Frames/video-3/\"\n",
    "count = 0;\n",
    "for i, filename in enumerate(os.listdir(collection)):\n",
    "    #if i>=0 and i<10: \n",
    "        #print(filename[:7] + '_' + filename[8:-4]+'o.jpg')\n",
    "    \n",
    "    if len(filename)==17:\n",
    "            #print(filename[:7] + '_' + filename[8:-4]+'o.jpg')\n",
    "        #os.rename(collection + filename,collection + filename[:7] + '_' + filename[8:-4]+'o.jpg')\n",
    "        count = count + 1"
   ]
  },
  {
   "cell_type": "code",
   "execution_count": 6,
   "metadata": {},
   "outputs": [
    {
     "name": "stdout",
     "output_type": "stream",
     "text": [
      "3126\n"
     ]
    }
   ],
   "source": [
    "print(count)"
   ]
  },
  {
   "cell_type": "code",
   "execution_count": null,
   "metadata": {},
   "outputs": [],
   "source": []
  }
 ],
 "metadata": {
  "kernelspec": {
   "display_name": "Python 3",
   "language": "python",
   "name": "python3"
  },
  "language_info": {
   "codemirror_mode": {
    "name": "ipython",
    "version": 3
   },
   "file_extension": ".py",
   "mimetype": "text/x-python",
   "name": "python",
   "nbconvert_exporter": "python",
   "pygments_lexer": "ipython3",
   "version": "3.5.2"
  }
 },
 "nbformat": 4,
 "nbformat_minor": 2
}
