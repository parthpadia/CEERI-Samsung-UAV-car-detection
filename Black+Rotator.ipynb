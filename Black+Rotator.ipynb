{
 "cells": [
  {
   "cell_type": "code",
   "execution_count": 26,
   "metadata": {},
   "outputs": [],
   "source": [
    "import cv2\n",
    "import os\n",
    "from shutil import copyfile\n",
    "import shutil"
   ]
  },
  {
   "cell_type": "code",
   "execution_count": 27,
   "metadata": {},
   "outputs": [],
   "source": [
    "l1 = [4,7,8,12,13,17,20,26,29,40,57]\n",
    "l2 = [8,19,66,70,93,106,133,137,168,174,179,185,220,235,243,246,249,252,255,275,301,332]\n",
    "l4 = [9,25,26,38,57,59,60,109,113,118,128,142,155,159,180,183]\n",
    "l8 = [5,6,12,128,147,149,153,157,171,173,174,181,185,189,203,206,214,244,251]\n",
    "l9 = [4,6,9,51,52,72,86,96,130,159,198,233,237,248,272,294,298,328,333,377,403,405,421,463,489,493,494,508,509]\n",
    "l6 = [36,40,75]"
   ]
  },
  {
   "cell_type": "code",
   "execution_count": 34,
   "metadata": {},
   "outputs": [
    {
     "name": "stdout",
     "output_type": "stream",
     "text": [
      "49\n"
     ]
    }
   ],
   "source": [
    "print(len(l1) + len(l2) + len(l4)) #+ len(l8) + len(l9) + len(l6))"
   ]
  },
  {
   "cell_type": "code",
   "execution_count": 22,
   "metadata": {},
   "outputs": [],
   "source": [
    "img_no = 0"
   ]
  },
  {
   "cell_type": "code",
   "execution_count": 37,
   "metadata": {},
   "outputs": [
    {
     "name": "stdout",
     "output_type": "stream",
     "text": [
      "100\n"
     ]
    }
   ],
   "source": [
    "for i in range(67):\n",
    "    #print(j + 1)\n",
    "    img_cnt = str(i + 1)\n",
    "    src_img_path_gt = 'Images_for_FCRN/Random/img1/gt/img1_' + img_cnt + 'gt.jpg'\n",
    "    src_img_path_o = 'Images_for_FCRN/Random/img6/o/img6_' + img_cnt + 'o.jpg'\n",
    "    des_img_path_gt = 'Images_for_FCRN/Random/img1a/gt'\n",
    "    des_img_path_o = 'Images_for_FCRN/Black/img1a/o'\n",
    "    dst_file_o = 'Images_for_FCRN/Black/o/img6_' + str(l6[i]) + 'o.jpg'\n",
    "    dst_file_gt = 'Images_for_FCRN/Black/gt/img6_' + str(l6[i]) + 'gt.jpg'\n",
    "    new_dst_file_name_o = 'Images_for_FCRN/Black/o/img_' + img_cnt + 'o.jpg'\n",
    "    new_dst_file_name_gt = 'Images_for_FCRN/Black/gt/img_' + img_cnt + 'gt.jpg'\n",
    "    shutil.copy(src_img_path_gt,des_img_path_gt)\n",
    "    shutil.copy(src_img_path_o,des_img_path_o)\n",
    "    os.rename(dst_file_o, new_dst_file_name_o)\n",
    "    os.rename(dst_file_gt, new_dst_file_name_gt)\n",
    "    img_no = img_no + 1\n",
    "    \n",
    "print(img_no)"
   ]
  },
  {
   "cell_type": "code",
   "execution_count": 1,
   "metadata": {},
   "outputs": [],
   "source": [
    "import numpy as np\n",
    "import argparse\n",
    "import imutils\n",
    "import cv2\n",
    "import matplotlib.pyplot as plt\n",
    "import scipy.misc as sm"
   ]
  },
  {
   "cell_type": "code",
   "execution_count": 3,
   "metadata": {},
   "outputs": [],
   "source": [
    "rotations = [15,75,105,165]"
   ]
  },
  {
   "cell_type": "code",
   "execution_count": 10,
   "metadata": {},
   "outputs": [
    {
     "name": "stderr",
     "output_type": "stream",
     "text": [
      "/home/sumeet/.virtualenvs/dl4cv/lib/python3.5/site-packages/ipykernel_launcher.py:10: DeprecationWarning: `imsave` is deprecated!\n",
      "`imsave` is deprecated in SciPy 1.0.0, and will be removed in 1.2.0.\n",
      "Use ``imageio.imwrite`` instead.\n",
      "  # Remove the CWD from sys.path while we load stuff.\n"
     ]
    }
   ],
   "source": [
    "for i in range(1,101):\n",
    "    img_cnt = str(i)\n",
    "    image = cv2.imread('Images_for_FCRN/Black/o/img_' + img_cnt + 'o.jpg')\n",
    "    image = cv2.cvtColor(image, cv2.COLOR_BGR2RGB)\n",
    "\n",
    "    #image = np.asarray(image)\n",
    "    for j in range(len(rotations)):\n",
    "        new_img_cnt = str(100*(j + 1) + i)\n",
    "        rotated = imutils.rotate(image, rotations[j])\n",
    "        sm.imsave('Images_for_FCRN/Black/o/img_' + new_img_cnt + 'o.jpg',rotated)"
   ]
  },
  {
   "cell_type": "code",
   "execution_count": 11,
   "metadata": {},
   "outputs": [
    {
     "name": "stderr",
     "output_type": "stream",
     "text": [
      "/home/sumeet/.virtualenvs/dl4cv/lib/python3.5/site-packages/ipykernel_launcher.py:9: DeprecationWarning: `imsave` is deprecated!\n",
      "`imsave` is deprecated in SciPy 1.0.0, and will be removed in 1.2.0.\n",
      "Use ``imageio.imwrite`` instead.\n",
      "  if __name__ == '__main__':\n"
     ]
    }
   ],
   "source": [
    "for i in range(1,101):\n",
    "    img_cnt = str(i)\n",
    "    image = cv2.imread('Images_for_FCRN/Black/gt/img_' + img_cnt + 'gt.jpg')\n",
    "    #image = cv2.cvtColor(image, cv2.COLOR_BGR2RGB)\n",
    "    #image = np.asarray(image)\n",
    "    for j in range(len(rotations)):\n",
    "        new_img_cnt = str(100*(j + 1) + i)\n",
    "        rotated = imutils.rotate(image, rotations[j])\n",
    "        sm.imsave('Images_for_FCRN/Black/gt/img_' + new_img_cnt + 'gt.jpg',rotated)"
   ]
  },
  {
   "cell_type": "code",
   "execution_count": null,
   "metadata": {},
   "outputs": [],
   "source": []
  }
 ],
 "metadata": {
  "kernelspec": {
   "display_name": "Python 3",
   "language": "python",
   "name": "python3"
  },
  "language_info": {
   "codemirror_mode": {
    "name": "ipython",
    "version": 3
   },
   "file_extension": ".py",
   "mimetype": "text/x-python",
   "name": "python",
   "nbconvert_exporter": "python",
   "pygments_lexer": "ipython3",
   "version": "3.5.2"
  }
 },
 "nbformat": 4,
 "nbformat_minor": 2
}
