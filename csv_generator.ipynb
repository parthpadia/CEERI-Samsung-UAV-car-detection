{
 "cells": [
  {
   "cell_type": "code",
   "execution_count": 4,
   "metadata": {},
   "outputs": [],
   "source": [
    "import csv\n",
    "import matplotlib.pyplot as plt\n",
    "from math import *\n",
    "import numpy as np\n",
    "import scipy.misc as sm\n",
    "from __future__ import division\n",
    "from __future__ import print_function\n",
    "from __future__ import absolute_import\n",
    "\n",
    "import os\n",
    "import io\n",
    "#import pandas as pd\n",
    "import tensorflow as tf\n",
    "import time\n",
    "import sys\n",
    "import cv2\n",
    "from PIL import Image\n",
    "#from object_detection.utils import dataset_util\n",
    "from collections import namedtuple, OrderedDict\n"
   ]
  },
  {
   "cell_type": "code",
   "execution_count": 3,
   "metadata": {},
   "outputs": [],
   "source": [
    "x0 = np.array([])\n",
    "y0 = np.array([])\n",
    "sx = np.array([])\n",
    "sy = np.array([])"
   ]
  },
  {
   "cell_type": "code",
   "execution_count": null,
   "metadata": {},
   "outputs": [],
   "source": []
  },
  {
   "cell_type": "code",
   "execution_count": 8,
   "metadata": {},
   "outputs": [],
   "source": [
    "i=0\n",
    "with open('gt_new/nal_aerial_labels.csv','r') as f:\n",
    "    reader = csv.reader(f,dialect = 'excel',delimiter=',')\n",
    "    \n",
    "    for row in reader:\n",
    "\n",
    "            filename = row[0]\n",
    "            filename = filename[:-4]\n",
    "            filename = filename + '.csv'\n",
    "            g = open(\"gt_new/csv/\" + filename,\"w+\")\n",
    "            g.close()\n"
   ]
  },
  {
   "cell_type": "code",
   "execution_count": 14,
   "metadata": {},
   "outputs": [],
   "source": [
    "i=0\n",
    "with open('gt_new/nal_aerial_labels.csv','r') as f:\n",
    "    reader = csv.reader(f,dialect = 'excel',delimiter=',')\n",
    " \n",
    "    for row in reader:\n",
    "\n",
    "            filename = \"gt_new/csv/\" + row[0][:-4] + \".csv\"\n",
    "            if(row[3]=='vehicle'): \n",
    "                cx = int(((float(row[4])+float(row[6]))/2))\n",
    "                cy = int(((float(row[5])+float(row[7]))/2))\n",
    "                sx = ceil((int(row[6])-int(row[4]))/2)\n",
    "                sy = ceil((int(row[7])-int(row[5]))/2)\n",
    "\n",
    "                g= open(filename,\"a+\")\n",
    "                g.write(str(cx)+\" \"+str(cy)+\" \"+str(sx)+\" \"+str(sy)+\"\\n\")\n",
    "                g.close()"
   ]
  },
  {
   "cell_type": "code",
   "execution_count": null,
   "metadata": {},
   "outputs": [],
   "source": []
  }
 ],
 "metadata": {
  "kernelspec": {
   "display_name": "Python 3",
   "language": "python",
   "name": "python3"
  },
  "language_info": {
   "codemirror_mode": {
    "name": "ipython",
    "version": 3
   },
   "file_extension": ".py",
   "mimetype": "text/x-python",
   "name": "python",
   "nbconvert_exporter": "python",
   "pygments_lexer": "ipython3",
   "version": "3.5.2"
  }
 },
 "nbformat": 4,
 "nbformat_minor": 2
}
